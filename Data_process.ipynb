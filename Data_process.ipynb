{
 "cells": [
  {
   "cell_type": "code",
   "execution_count": 1,
   "metadata": {},
   "outputs": [],
   "source": [
    "import pandas as pd\n"
   ]
  },
  {
   "cell_type": "markdown",
   "metadata": {},
   "source": [
    "# Finding New Zealand Unemployment Rate"
   ]
  },
  {
   "cell_type": "code",
   "execution_count": 2,
   "metadata": {},
   "outputs": [],
   "source": [
    "# URL of the CSV file\n",
    "url = 'https://raw.githubusercontent.com/HAZCHEM234/My_data/main/Unemployment_rate_countries.csv'\n",
    "\n",
    "# Read the CSV file into a DataFrame\n",
    "df = pd.read_csv(url)"
   ]
  },
  {
   "cell_type": "code",
   "execution_count": 3,
   "metadata": {},
   "outputs": [
    {
     "data": {
      "text/html": [
       "<div>\n",
       "<style scoped>\n",
       "    .dataframe tbody tr th:only-of-type {\n",
       "        vertical-align: middle;\n",
       "    }\n",
       "\n",
       "    .dataframe tbody tr th {\n",
       "        vertical-align: top;\n",
       "    }\n",
       "\n",
       "    .dataframe thead th {\n",
       "        text-align: right;\n",
       "    }\n",
       "</style>\n",
       "<table border=\"1\" class=\"dataframe\">\n",
       "  <thead>\n",
       "    <tr style=\"text-align: right;\">\n",
       "      <th></th>\n",
       "      <th>Country Name</th>\n",
       "      <th>Country Code</th>\n",
       "      <th>Indicator Name</th>\n",
       "      <th>Indicator Code</th>\n",
       "      <th>1991</th>\n",
       "      <th>1992</th>\n",
       "      <th>1993</th>\n",
       "      <th>1994</th>\n",
       "      <th>1995</th>\n",
       "      <th>1996</th>\n",
       "      <th>...</th>\n",
       "      <th>2014</th>\n",
       "      <th>2015</th>\n",
       "      <th>2016</th>\n",
       "      <th>2017</th>\n",
       "      <th>2018</th>\n",
       "      <th>2019</th>\n",
       "      <th>2020</th>\n",
       "      <th>2021</th>\n",
       "      <th>2022</th>\n",
       "      <th>2023</th>\n",
       "    </tr>\n",
       "  </thead>\n",
       "  <tbody>\n",
       "    <tr>\n",
       "      <th>180</th>\n",
       "      <td>New Zealand</td>\n",
       "      <td>NZL</td>\n",
       "      <td>Unemployment, total (% of total labor force) (...</td>\n",
       "      <td>SL.UEM.TOTL.ZS</td>\n",
       "      <td>10.614</td>\n",
       "      <td>10.667</td>\n",
       "      <td>9.804</td>\n",
       "      <td>8.354</td>\n",
       "      <td>6.461</td>\n",
       "      <td>6.29</td>\n",
       "      <td>...</td>\n",
       "      <td>5.428</td>\n",
       "      <td>5.415</td>\n",
       "      <td>5.147</td>\n",
       "      <td>4.736</td>\n",
       "      <td>4.335</td>\n",
       "      <td>4.109</td>\n",
       "      <td>4.595</td>\n",
       "      <td>3.776</td>\n",
       "      <td>3.297</td>\n",
       "      <td>3.737</td>\n",
       "    </tr>\n",
       "  </tbody>\n",
       "</table>\n",
       "<p>1 rows × 37 columns</p>\n",
       "</div>"
      ],
      "text/plain": [
       "    Country Name Country Code  \\\n",
       "180  New Zealand          NZL   \n",
       "\n",
       "                                        Indicator Name  Indicator Code  \\\n",
       "180  Unemployment, total (% of total labor force) (...  SL.UEM.TOTL.ZS   \n",
       "\n",
       "       1991    1992   1993   1994   1995  1996  ...   2014   2015   2016  \\\n",
       "180  10.614  10.667  9.804  8.354  6.461  6.29  ...  5.428  5.415  5.147   \n",
       "\n",
       "      2017   2018   2019   2020   2021   2022   2023  \n",
       "180  4.736  4.335  4.109  4.595  3.776  3.297  3.737  \n",
       "\n",
       "[1 rows x 37 columns]"
      ]
     },
     "execution_count": 3,
     "metadata": {},
     "output_type": "execute_result"
    }
   ],
   "source": [
    "# Filter the DataFrame to show only rows where the country is New Zealand\n",
    "nz_rows = df[df['Country Name'] == 'New Zealand']\n",
    "\n",
    "# Display the filtered rows\n",
    "nz_rows"
   ]
  },
  {
   "cell_type": "code",
   "execution_count": 4,
   "metadata": {},
   "outputs": [
    {
     "data": {
      "text/html": [
       "<div>\n",
       "<style scoped>\n",
       "    .dataframe tbody tr th:only-of-type {\n",
       "        vertical-align: middle;\n",
       "    }\n",
       "\n",
       "    .dataframe tbody tr th {\n",
       "        vertical-align: top;\n",
       "    }\n",
       "\n",
       "    .dataframe thead th {\n",
       "        text-align: right;\n",
       "    }\n",
       "</style>\n",
       "<table border=\"1\" class=\"dataframe\">\n",
       "  <thead>\n",
       "    <tr style=\"text-align: right;\">\n",
       "      <th></th>\n",
       "      <th>date</th>\n",
       "      <th>unemployment rate</th>\n",
       "    </tr>\n",
       "  </thead>\n",
       "  <tbody>\n",
       "    <tr>\n",
       "      <th>0</th>\n",
       "      <td>2023</td>\n",
       "      <td>3.737</td>\n",
       "    </tr>\n",
       "    <tr>\n",
       "      <th>1</th>\n",
       "      <td>2022</td>\n",
       "      <td>3.297</td>\n",
       "    </tr>\n",
       "    <tr>\n",
       "      <th>2</th>\n",
       "      <td>2021</td>\n",
       "      <td>3.776</td>\n",
       "    </tr>\n",
       "    <tr>\n",
       "      <th>3</th>\n",
       "      <td>2020</td>\n",
       "      <td>4.595</td>\n",
       "    </tr>\n",
       "    <tr>\n",
       "      <th>4</th>\n",
       "      <td>2019</td>\n",
       "      <td>4.109</td>\n",
       "    </tr>\n",
       "    <tr>\n",
       "      <th>5</th>\n",
       "      <td>2018</td>\n",
       "      <td>4.335</td>\n",
       "    </tr>\n",
       "    <tr>\n",
       "      <th>6</th>\n",
       "      <td>2017</td>\n",
       "      <td>4.736</td>\n",
       "    </tr>\n",
       "  </tbody>\n",
       "</table>\n",
       "</div>"
      ],
      "text/plain": [
       "   date  unemployment rate\n",
       "0  2023              3.737\n",
       "1  2022              3.297\n",
       "2  2021              3.776\n",
       "3  2020              4.595\n",
       "4  2019              4.109\n",
       "5  2018              4.335\n",
       "6  2017              4.736"
      ]
     },
     "execution_count": 4,
     "metadata": {},
     "output_type": "execute_result"
    }
   ],
   "source": [
    "# Select the year columns from 2017 to 2023 and transpose the DataFrame\n",
    "unemployment_rate = nz_rows.loc[:, '2017':'2023'].T\n",
    "\n",
    "# Reset the index to make the years a column\n",
    "unemployment_rate = unemployment_rate.reset_index()\n",
    "\n",
    "# Rename the columns\n",
    "unemployment_rate.columns = ['date', 'unemployment rate']\n",
    "\n",
    "# Sort by date in descending order\n",
    "unemployment_rate = unemployment_rate.sort_values(by='date', ascending=False).reset_index(drop=True)\n",
    "\n",
    "# Display the reshaped DataFrame\n",
    "unemployment_rate"
   ]
  },
  {
   "cell_type": "markdown",
   "metadata": {},
   "source": [
    "# New Zealand GDP"
   ]
  },
  {
   "cell_type": "markdown",
   "metadata": {},
   "source": [
    "### Reading EXCEL Files\n",
    "\n",
    "Excel file = GDP_and_Components.xlsx\n",
    "\n",
    "copy the link of the excel file"
   ]
  },
  {
   "cell_type": "code",
   "execution_count": 5,
   "metadata": {},
   "outputs": [
    {
     "name": "stdout",
     "output_type": "stream",
     "text": [
      "Requirement already satisfied: openpyxl in c:\\python311\\lib\\site-packages (3.1.4)\n",
      "Requirement already satisfied: et-xmlfile in c:\\python311\\lib\\site-packages (from openpyxl) (1.1.0)\n"
     ]
    },
    {
     "name": "stderr",
     "output_type": "stream",
     "text": [
      "\n",
      "[notice] A new release of pip is available: 24.0 -> 24.1.2\n",
      "[notice] To update, run: python.exe -m pip install --upgrade pip\n"
     ]
    }
   ],
   "source": [
    "!pip install openpyxl"
   ]
  },
  {
   "cell_type": "code",
   "execution_count": 6,
   "metadata": {},
   "outputs": [],
   "source": [
    "# Path to the Excel file\n",
    "file_path = r'C:\\Users\\muham\\OneDrive\\Projects\\Job_loss and economic factor analysis\\GDP_and_Components.xlsx'\n",
    "\n",
    "# Read the Excel file into a DataFrame\n",
    "df = pd.read_excel(file_path, sheet_name='Sheet1')"
   ]
  },
  {
   "cell_type": "code",
   "execution_count": 7,
   "metadata": {},
   "outputs": [
    {
     "data": {
      "text/html": [
       "<div>\n",
       "<style scoped>\n",
       "    .dataframe tbody tr th:only-of-type {\n",
       "        vertical-align: middle;\n",
       "    }\n",
       "\n",
       "    .dataframe tbody tr th {\n",
       "        vertical-align: top;\n",
       "    }\n",
       "\n",
       "    .dataframe thead th {\n",
       "        text-align: right;\n",
       "    }\n",
       "</style>\n",
       "<table border=\"1\" class=\"dataframe\">\n",
       "  <thead>\n",
       "    <tr style=\"text-align: right;\">\n",
       "      <th></th>\n",
       "      <th>Indicator</th>\n",
       "      <th>Code</th>\n",
       "      <th>Base Year</th>\n",
       "      <th>Scale</th>\n",
       "      <th>2017</th>\n",
       "      <th>2018</th>\n",
       "      <th>2019</th>\n",
       "      <th>2020</th>\n",
       "      <th>2021</th>\n",
       "      <th>2022</th>\n",
       "      <th>2023</th>\n",
       "      <th>Unnamed: 11</th>\n",
       "      <th>Unnamed: 12</th>\n",
       "      <th>Unnamed: 13</th>\n",
       "    </tr>\n",
       "  </thead>\n",
       "  <tbody>\n",
       "    <tr>\n",
       "      <th>1</th>\n",
       "      <td>Gross Domestic Product, Nominal, Domestic Curr...</td>\n",
       "      <td>NGDP_XDC</td>\n",
       "      <td>NaN</td>\n",
       "      <td>Millions</td>\n",
       "      <td>286455</td>\n",
       "      <td>302474</td>\n",
       "      <td>319684</td>\n",
       "      <td>323461</td>\n",
       "      <td>353002</td>\n",
       "      <td>381035</td>\n",
       "      <td>405145</td>\n",
       "      <td>NaN</td>\n",
       "      <td>NaN</td>\n",
       "      <td>Indcator</td>\n",
       "    </tr>\n",
       "    <tr>\n",
       "      <th>9</th>\n",
       "      <td>Gross Domestic Product, Real, Domestic Currency</td>\n",
       "      <td>NGDP_R_XDC</td>\n",
       "      <td>NaN</td>\n",
       "      <td>Millions</td>\n",
       "      <td>243732</td>\n",
       "      <td>253687</td>\n",
       "      <td>261891</td>\n",
       "      <td>259288</td>\n",
       "      <td>274604</td>\n",
       "      <td>280754</td>\n",
       "      <td>282529</td>\n",
       "      <td>NaN</td>\n",
       "      <td>NaN</td>\n",
       "      <td>NaN</td>\n",
       "    </tr>\n",
       "  </tbody>\n",
       "</table>\n",
       "</div>"
      ],
      "text/plain": [
       "                                           Indicator        Code  Base Year  \\\n",
       "1  Gross Domestic Product, Nominal, Domestic Curr...    NGDP_XDC        NaN   \n",
       "9    Gross Domestic Product, Real, Domestic Currency  NGDP_R_XDC        NaN   \n",
       "\n",
       "      Scale    2017    2018    2019    2020    2021    2022    2023  \\\n",
       "1  Millions  286455  302474  319684  323461  353002  381035  405145   \n",
       "9  Millions  243732  253687  261891  259288  274604  280754  282529   \n",
       "\n",
       "   Unnamed: 11  Unnamed: 12 Unnamed: 13  \n",
       "1          NaN          NaN    Indcator  \n",
       "9          NaN          NaN         NaN  "
      ]
     },
     "execution_count": 7,
     "metadata": {},
     "output_type": "execute_result"
    }
   ],
   "source": [
    "# Select rows 3 and 11 (Note: pandas uses zero-based indexing)\n",
    "selected_rows = df.iloc[[1, 9]]\n",
    "\n",
    "# Display the selected rows\n",
    "selected_rows"
   ]
  },
  {
   "cell_type": "code",
   "execution_count": 8,
   "metadata": {},
   "outputs": [
    {
     "data": {
      "text/html": [
       "<div>\n",
       "<style scoped>\n",
       "    .dataframe tbody tr th:only-of-type {\n",
       "        vertical-align: middle;\n",
       "    }\n",
       "\n",
       "    .dataframe tbody tr th {\n",
       "        vertical-align: top;\n",
       "    }\n",
       "\n",
       "    .dataframe thead th {\n",
       "        text-align: right;\n",
       "    }\n",
       "</style>\n",
       "<table border=\"1\" class=\"dataframe\">\n",
       "  <thead>\n",
       "    <tr style=\"text-align: right;\">\n",
       "      <th></th>\n",
       "      <th>date</th>\n",
       "      <th>GDP Nominal (in millions)</th>\n",
       "      <th>GDP Real (in millions)</th>\n",
       "    </tr>\n",
       "  </thead>\n",
       "  <tbody>\n",
       "    <tr>\n",
       "      <th>0</th>\n",
       "      <td>2023</td>\n",
       "      <td>405145</td>\n",
       "      <td>282529</td>\n",
       "    </tr>\n",
       "    <tr>\n",
       "      <th>1</th>\n",
       "      <td>2022</td>\n",
       "      <td>381035</td>\n",
       "      <td>280754</td>\n",
       "    </tr>\n",
       "    <tr>\n",
       "      <th>2</th>\n",
       "      <td>2021</td>\n",
       "      <td>353002</td>\n",
       "      <td>274604</td>\n",
       "    </tr>\n",
       "    <tr>\n",
       "      <th>3</th>\n",
       "      <td>2020</td>\n",
       "      <td>323461</td>\n",
       "      <td>259288</td>\n",
       "    </tr>\n",
       "    <tr>\n",
       "      <th>4</th>\n",
       "      <td>2019</td>\n",
       "      <td>319684</td>\n",
       "      <td>261891</td>\n",
       "    </tr>\n",
       "    <tr>\n",
       "      <th>5</th>\n",
       "      <td>2018</td>\n",
       "      <td>302474</td>\n",
       "      <td>253687</td>\n",
       "    </tr>\n",
       "  </tbody>\n",
       "</table>\n",
       "</div>"
      ],
      "text/plain": [
       "   date GDP Nominal (in millions) GDP Real (in millions)\n",
       "0  2023                    405145                 282529\n",
       "1  2022                    381035                 280754\n",
       "2  2021                    353002                 274604\n",
       "3  2020                    323461                 259288\n",
       "4  2019                    319684                 261891\n",
       "5  2018                    302474                 253687"
      ]
     },
     "execution_count": 8,
     "metadata": {},
     "output_type": "execute_result"
    }
   ],
   "source": [
    "# Select rows 1 and 9\n",
    "gdp_nominal_row = df.iloc[1]\n",
    "gdp_real_row = df.iloc[9]\n",
    "\n",
    "# Filter out rows with NaN values\n",
    "gdp_nominal_filtered = gdp_nominal_row.dropna()\n",
    "gdp_real_filtered = gdp_real_row.dropna()\n",
    "\n",
    "# Align indices to ensure they match after filtering NaNs\n",
    "gdp_nominal_filtered = gdp_nominal_filtered[gdp_nominal_filtered.index.isin(gdp_real_filtered.index)]\n",
    "gdp_real_filtered = gdp_real_filtered[gdp_real_filtered.index.isin(gdp_nominal_filtered.index)]\n",
    "\n",
    "# Create a new DataFrame with the desired structure\n",
    "data = {\n",
    "    'date': gdp_nominal_filtered.index[4:][::-1],  # Reverse the order of years\n",
    "    'GDP Nominal (in millions)': gdp_nominal_filtered.values[4:][::-1],  # Reverse the order of values\n",
    "    'GDP Real (in millions)': gdp_real_filtered.values[4:][::-1]  # Reverse the order of values\n",
    "}\n",
    "\n",
    "# Create the final DataFrame\n",
    "final_df = pd.DataFrame(data)\n",
    "\n",
    "final_df"
   ]
  },
  {
   "cell_type": "markdown",
   "metadata": {},
   "source": [
    "### Merge the dataframe"
   ]
  },
  {
   "cell_type": "code",
   "execution_count": 9,
   "metadata": {},
   "outputs": [],
   "source": [
    "# Merge final_df and unemployment_rate table on 'Date'\n",
    "merged_df = pd.merge(final_df, unemployment_rate, on='date')"
   ]
  },
  {
   "cell_type": "code",
   "execution_count": 10,
   "metadata": {},
   "outputs": [
    {
     "data": {
      "text/html": [
       "<div>\n",
       "<style scoped>\n",
       "    .dataframe tbody tr th:only-of-type {\n",
       "        vertical-align: middle;\n",
       "    }\n",
       "\n",
       "    .dataframe tbody tr th {\n",
       "        vertical-align: top;\n",
       "    }\n",
       "\n",
       "    .dataframe thead th {\n",
       "        text-align: right;\n",
       "    }\n",
       "</style>\n",
       "<table border=\"1\" class=\"dataframe\">\n",
       "  <thead>\n",
       "    <tr style=\"text-align: right;\">\n",
       "      <th></th>\n",
       "      <th>date</th>\n",
       "      <th>GDP Nominal (in millions)</th>\n",
       "      <th>GDP Real (in millions)</th>\n",
       "      <th>unemployment rate</th>\n",
       "    </tr>\n",
       "  </thead>\n",
       "  <tbody>\n",
       "    <tr>\n",
       "      <th>0</th>\n",
       "      <td>2023</td>\n",
       "      <td>405145</td>\n",
       "      <td>282529</td>\n",
       "      <td>3.737</td>\n",
       "    </tr>\n",
       "    <tr>\n",
       "      <th>1</th>\n",
       "      <td>2022</td>\n",
       "      <td>381035</td>\n",
       "      <td>280754</td>\n",
       "      <td>3.297</td>\n",
       "    </tr>\n",
       "    <tr>\n",
       "      <th>2</th>\n",
       "      <td>2021</td>\n",
       "      <td>353002</td>\n",
       "      <td>274604</td>\n",
       "      <td>3.776</td>\n",
       "    </tr>\n",
       "    <tr>\n",
       "      <th>3</th>\n",
       "      <td>2020</td>\n",
       "      <td>323461</td>\n",
       "      <td>259288</td>\n",
       "      <td>4.595</td>\n",
       "    </tr>\n",
       "    <tr>\n",
       "      <th>4</th>\n",
       "      <td>2019</td>\n",
       "      <td>319684</td>\n",
       "      <td>261891</td>\n",
       "      <td>4.109</td>\n",
       "    </tr>\n",
       "    <tr>\n",
       "      <th>5</th>\n",
       "      <td>2018</td>\n",
       "      <td>302474</td>\n",
       "      <td>253687</td>\n",
       "      <td>4.335</td>\n",
       "    </tr>\n",
       "  </tbody>\n",
       "</table>\n",
       "</div>"
      ],
      "text/plain": [
       "   date GDP Nominal (in millions) GDP Real (in millions)  unemployment rate\n",
       "0  2023                    405145                 282529              3.737\n",
       "1  2022                    381035                 280754              3.297\n",
       "2  2021                    353002                 274604              3.776\n",
       "3  2020                    323461                 259288              4.595\n",
       "4  2019                    319684                 261891              4.109\n",
       "5  2018                    302474                 253687              4.335"
      ]
     },
     "execution_count": 10,
     "metadata": {},
     "output_type": "execute_result"
    }
   ],
   "source": [
    "merged_df"
   ]
  },
  {
   "cell_type": "markdown",
   "metadata": {},
   "source": [
    "This dataframe will found on github: \n",
    "\n",
    "https://raw.githubusercontent.com/HAZCHEM234/My_data/main/merged_unemployment_and_gdp.csv"
   ]
  },
  {
   "cell_type": "code",
   "execution_count": 11,
   "metadata": {},
   "outputs": [],
   "source": [
    "merged_df.to_csv('merged_unemployment_and_gdp.csv', index=False)"
   ]
  },
  {
   "cell_type": "code",
   "execution_count": null,
   "metadata": {},
   "outputs": [],
   "source": []
  },
  {
   "cell_type": "markdown",
   "metadata": {},
   "source": [
    "# Gender and Age group unemployment rate"
   ]
  },
  {
   "cell_type": "markdown",
   "metadata": {},
   "source": [
    "Github page:\n",
    "https://raw.githubusercontent.com/HAZCHEM234/My_data/main/Gender%20and%20age%20unemployment%20rate.csv"
   ]
  },
  {
   "cell_type": "code",
   "execution_count": 12,
   "metadata": {},
   "outputs": [],
   "source": [
    "# URL of the CSV file\n",
    "url = 'https://raw.githubusercontent.com/HAZCHEM234/My_data/main/Gender%20and%20age%20unemployment%20rate.csv'\n",
    "\n",
    "# Read the CSV file into a DataFrame\n",
    "df = pd.read_csv(url)"
   ]
  },
  {
   "cell_type": "code",
   "execution_count": 13,
   "metadata": {},
   "outputs": [
    {
     "data": {
      "text/html": [
       "<div>\n",
       "<style scoped>\n",
       "    .dataframe tbody tr th:only-of-type {\n",
       "        vertical-align: middle;\n",
       "    }\n",
       "\n",
       "    .dataframe tbody tr th {\n",
       "        vertical-align: top;\n",
       "    }\n",
       "\n",
       "    .dataframe thead th {\n",
       "        text-align: right;\n",
       "    }\n",
       "</style>\n",
       "<table border=\"1\" class=\"dataframe\">\n",
       "  <thead>\n",
       "    <tr style=\"text-align: right;\">\n",
       "      <th></th>\n",
       "      <th>time</th>\n",
       "      <th>sex.label</th>\n",
       "      <th>classif1.label</th>\n",
       "    </tr>\n",
       "  </thead>\n",
       "  <tbody>\n",
       "    <tr>\n",
       "      <th>0</th>\n",
       "      <td>2023</td>\n",
       "      <td>Sex: Total</td>\n",
       "      <td>Age (Youth, adults): 15+</td>\n",
       "    </tr>\n",
       "    <tr>\n",
       "      <th>1</th>\n",
       "      <td>2023</td>\n",
       "      <td>Sex: Total</td>\n",
       "      <td>Age (Youth, adults): 15-24</td>\n",
       "    </tr>\n",
       "    <tr>\n",
       "      <th>2</th>\n",
       "      <td>2023</td>\n",
       "      <td>Sex: Total</td>\n",
       "      <td>Age (Youth, adults): 25+</td>\n",
       "    </tr>\n",
       "  </tbody>\n",
       "</table>\n",
       "</div>"
      ],
      "text/plain": [
       "   time   sex.label              classif1.label\n",
       "0  2023  Sex: Total    Age (Youth, adults): 15+\n",
       "1  2023  Sex: Total  Age (Youth, adults): 15-24\n",
       "2  2023  Sex: Total    Age (Youth, adults): 25+"
      ]
     },
     "execution_count": 13,
     "metadata": {},
     "output_type": "execute_result"
    }
   ],
   "source": [
    "# Filter the DataFrame to show data only for the year 2023\n",
    "filtered_df = df[df['time'] == 2023][['time','sex.label', 'classif1.label']]\n",
    "\n",
    "# Display the filtered DataFrame\n",
    "filtered_df"
   ]
  },
  {
   "cell_type": "code",
   "execution_count": null,
   "metadata": {},
   "outputs": [],
   "source": []
  }
 ],
 "metadata": {
  "kernelspec": {
   "display_name": "Python 3",
   "language": "python",
   "name": "python3"
  },
  "language_info": {
   "codemirror_mode": {
    "name": "ipython",
    "version": 3
   },
   "file_extension": ".py",
   "mimetype": "text/x-python",
   "name": "python",
   "nbconvert_exporter": "python",
   "pygments_lexer": "ipython3",
   "version": "3.11.4"
  }
 },
 "nbformat": 4,
 "nbformat_minor": 2
}
